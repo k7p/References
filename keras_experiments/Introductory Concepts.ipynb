{
 "cells": [
  {
   "cell_type": "markdown",
   "metadata": {},
   "source": [
    "### Generating some sample data and putting into a form that Keras can deal with."
   ]
  },
  {
   "cell_type": "code",
   "execution_count": 64,
   "metadata": {},
   "outputs": [],
   "source": [
    "import numpy as np\n",
    "from random import randint\n",
    "from sklearn.preprocessing import MinMaxScaler"
   ]
  },
  {
   "cell_type": "markdown",
   "metadata": {},
   "source": [
    "Samples are the data itself without the labels, and labels are the actual labels for the data.\n",
    "\n",
    "Samples in Keras need to be in the form of a numpy array or a list of numpy arrays, and the labels need to be in a numpy array."
   ]
  },
  {
   "cell_type": "code",
   "execution_count": 65,
   "metadata": {},
   "outputs": [],
   "source": [
    "train_labels = []\n",
    "train_samples = []"
   ]
  },
  {
   "cell_type": "markdown",
   "metadata": {},
   "source": [
    "* An Experimental drug was tested on individuals from ages 13 to 100\n",
    "* The trial had 2100 participants. Half < 65 years old and Half > 65 years old\n",
    "* 95% of patients 65 or older experienced side effects\n",
    "* 95% of patients under 65 experienced no side effects\n",
    "\n",
    "Train a neural net to determine whether or not a person is likely to experience side effects based on training data"
   ]
  },
  {
   "cell_type": "code",
   "execution_count": 66,
   "metadata": {},
   "outputs": [],
   "source": [
    "# create 50 instances of unexpected behavior\n",
    "for i in range(50):\n",
    "    random_younger = randint(13, 64)\n",
    "    train_samples.append(random_younger)\n",
    "    train_labels.append(1)\n",
    "    \n",
    "    random_older = randint(65, 100)\n",
    "    train_samples.append(random_older)\n",
    "    train_labels.append(0)\n",
    "    \n",
    "# create 1000 instances of expected behavior\n",
    "for i in range(1000):\n",
    "    random_younger = randint(13, 64)\n",
    "    train_samples.append(random_younger)\n",
    "    train_labels.append(0)\n",
    "    \n",
    "    random_older = randint(65, 100)\n",
    "    train_samples.append(random_older)\n",
    "    train_labels.append(1)"
   ]
  },
  {
   "cell_type": "code",
   "execution_count": 67,
   "metadata": {},
   "outputs": [
    {
     "name": "stdout",
     "output_type": "stream",
     "text": [
      "[18, 70, 51, 73, 56, 70, 41, 100, 37, 95]\n",
      "[1, 0, 1, 0, 1, 0, 1, 0, 1, 0]\n"
     ]
    }
   ],
   "source": [
    "print(train_samples[:10])\n",
    "print(train_labels[:10])"
   ]
  },
  {
   "cell_type": "code",
   "execution_count": 68,
   "metadata": {},
   "outputs": [
    {
     "name": "stdout",
     "output_type": "stream",
     "text": [
      "18 1\n",
      "70 0\n",
      "51 1\n",
      "73 0\n",
      "56 1\n",
      "70 0\n",
      "41 1\n",
      "100 0\n",
      "37 1\n",
      "95 0\n"
     ]
    }
   ],
   "source": [
    "row_count = 0\n",
    "for age, label in zip(train_samples, train_labels):\n",
    "    if row_count < 10:\n",
    "        print(age, label)\n",
    "    row_count += 1"
   ]
  },
  {
   "cell_type": "markdown",
   "metadata": {},
   "source": [
    "Convert both training data and labels to numpy arrays since that's what Keras expects"
   ]
  },
  {
   "cell_type": "code",
   "execution_count": 69,
   "metadata": {},
   "outputs": [],
   "source": [
    "train_samples = np.array(train_samples)\n",
    "train_labels = np.array(train_labels)"
   ]
  },
  {
   "cell_type": "markdown",
   "metadata": {},
   "source": [
    "It might be difficult for the neural net to learn from ages ranging from 13 to 100, so scaling the data in the range of 0 to 1 may help.\n",
    "\n",
    "fit_transform does not accept 1D arrays be default, so you need to reshape it to have a shape of -1, 1, where the -1 means that numpy will figure out the number of rows needed"
   ]
  },
  {
   "cell_type": "code",
   "execution_count": 70,
   "metadata": {},
   "outputs": [
    {
     "name": "stderr",
     "output_type": "stream",
     "text": [
      "/anaconda3/lib/python3.6/site-packages/sklearn/utils/validation.py:475: DataConversionWarning: Data with input dtype int64 was converted to float64 by MinMaxScaler.\n",
      "  warnings.warn(msg, DataConversionWarning)\n"
     ]
    }
   ],
   "source": [
    "scaler = MinMaxScaler(feature_range = (0, 1))\n",
    "scaled_train_samples \\\n",
    "= scaler.fit_transform((train_samples) \\\n",
    "                       .reshape(-1, 1))"
   ]
  },
  {
   "cell_type": "markdown",
   "metadata": {},
   "source": [
    "Now our data is scaled bewteen 0 and 1 to make it easier for the NN to learn from."
   ]
  },
  {
   "cell_type": "code",
   "execution_count": 71,
   "metadata": {},
   "outputs": [
    {
     "name": "stdout",
     "output_type": "stream",
     "text": [
      "[0.05747126]\n",
      "[0.65517241]\n",
      "[0.43678161]\n",
      "[0.68965517]\n",
      "[0.49425287]\n",
      "[0.65517241]\n",
      "[0.32183908]\n",
      "[1.]\n",
      "[0.27586207]\n",
      "[0.94252874]\n"
     ]
    }
   ],
   "source": [
    "counter = 0\n",
    "for i in scaled_train_samples:\n",
    "    if counter < 10:\n",
    "        print(i)\n",
    "    counter += 1"
   ]
  },
  {
   "cell_type": "markdown",
   "metadata": {},
   "source": [
    "### How to create a NN model"
   ]
  },
  {
   "cell_type": "code",
   "execution_count": 72,
   "metadata": {},
   "outputs": [],
   "source": [
    "import keras\n",
    "from keras import backend as K\n",
    "from keras.models import Sequential\n",
    "from keras.layers import Activation\n",
    "from keras.layers.core import Dense\n",
    "from keras.optimizers import Adam\n",
    "from keras.metrics import categorical_crossentropy"
   ]
  },
  {
   "cell_type": "markdown",
   "metadata": {},
   "source": [
    "Check which backend we are using"
   ]
  },
  {
   "cell_type": "code",
   "execution_count": 73,
   "metadata": {},
   "outputs": [
    {
     "data": {
      "text/plain": [
       "'tensorflow'"
      ]
     },
     "execution_count": 73,
     "metadata": {},
     "output_type": "execute_result"
    }
   ],
   "source": [
    "keras.backend.backend()"
   ]
  },
  {
   "cell_type": "markdown",
   "metadata": {},
   "source": [
    "A sequential model is a linear stack of layers. You can add one by one or pass the layers into the constructor directly. Tuple of (1,) to specify 1D input data."
   ]
  },
  {
   "cell_type": "markdown",
   "metadata": {},
   "source": [
    "16 neurons in the first layer.\n",
    "\n",
    "32 neurons in the second layer.\n",
    "\n",
    "The choice of 16 and 32 neurons is pretty arbitrary. The more complex your data, the more neurons in each layer you will likely need. Generally, the number of neurons increases with each layer as the layers become deeped in the network. Picking neuron amount is trial and error and experience.\n",
    "\n",
    "Keras implicitly creates the input layer behind the scenes based on the input_shape parameter that you pass to the first hidden layer. Instead, the first layer that you see is actually the first hidden layer. For the first layer you specify, you can have as little or as many neurons as you'd like, regardless of your input shape because the layer you're working with actually isn't the input layer. Keras is handling the input layer for you without you explicitly defining it."
   ]
  },
  {
   "cell_type": "code",
   "execution_count": 74,
   "metadata": {},
   "outputs": [],
   "source": [
    "model = Sequential([\n",
    "    Dense(16, input_shape=(1,), activation = 'relu'),\n",
    "    Dense(32, activation = 'relu'),\n",
    "    Dense(2, activation = 'softmax') # 2 categories of binary response\n",
    "])"
   ]
  },
  {
   "cell_type": "code",
   "execution_count": 75,
   "metadata": {},
   "outputs": [
    {
     "name": "stdout",
     "output_type": "stream",
     "text": [
      "_________________________________________________________________\n",
      "Layer (type)                 Output Shape              Param #   \n",
      "=================================================================\n",
      "dense_10 (Dense)             (None, 16)                32        \n",
      "_________________________________________________________________\n",
      "dense_11 (Dense)             (None, 32)                544       \n",
      "_________________________________________________________________\n",
      "dense_12 (Dense)             (None, 2)                 66        \n",
      "=================================================================\n",
      "Total params: 642\n",
      "Trainable params: 642\n",
      "Non-trainable params: 0\n",
      "_________________________________________________________________\n"
     ]
    }
   ],
   "source": [
    "model.summary()"
   ]
  },
  {
   "cell_type": "markdown",
   "metadata": {},
   "source": [
    "The weights are represented as the connections between the layers. So, in the model in this video, we have connections from the implicit input layer to the first hidden layer. Then the first hidden layer to the second hidden layer. Then the second hidden layer to the output layer. Three total. If you run `model.layers[0].get_weights()`, you can see the weight matrix corresponding to the input layer. Then If you sub 1 for 0, you can see it for the first hidden layer, and then sub 2 for the second hidden layer. Total, when you do this, you will see three matrices.\n",
    "\n",
    "You also see another matrix along with each matrix that is likely the bias vector. "
   ]
  },
  {
   "cell_type": "code",
   "execution_count": 77,
   "metadata": {},
   "outputs": [
    {
     "data": {
      "text/plain": [
       "[array([[ 0.03638083,  0.4454013 ,  0.12581259,  0.51573265, -0.44820958,\n",
       "         -0.40748942,  0.22367728,  0.52067506,  0.03711224,  0.35321116,\n",
       "          0.30606246,  0.4332205 , -0.09076774, -0.36407185, -0.51899564,\n",
       "         -0.36801404]], dtype=float32),\n",
       " array([0., 0., 0., 0., 0., 0., 0., 0., 0., 0., 0., 0., 0., 0., 0., 0.],\n",
       "       dtype=float32)]"
      ]
     },
     "execution_count": 77,
     "metadata": {},
     "output_type": "execute_result"
    }
   ],
   "source": [
    "model.layers[0].get_weights()"
   ]
  },
  {
   "cell_type": "markdown",
   "metadata": {},
   "source": [
    "Now compile the model."
   ]
  },
  {
   "cell_type": "code",
   "execution_count": 78,
   "metadata": {},
   "outputs": [],
   "source": [
    "model.compile(Adam(lr = 0.0001),\n",
    "                   loss = 'sparse_categorical_crossentropy',\n",
    "                  metrics = ['accuracy'])"
   ]
  },
  {
   "cell_type": "markdown",
   "metadata": {},
   "source": [
    "Batch_size is number of training examples to group together at once. Instead of looking at each individual sample one by one, let's have the NN look at 10 samples together at a time.\n",
    "\n",
    "epochs is the number of times you want to train your model. Here we choose 20 training runs."
   ]
  },
  {
   "cell_type": "code",
   "execution_count": 79,
   "metadata": {},
   "outputs": [
    {
     "name": "stdout",
     "output_type": "stream",
     "text": [
      "Epoch 1/20\n",
      " - 1s - loss: 0.6612 - acc: 0.5576\n",
      "Epoch 2/20\n",
      " - 0s - loss: 0.6291 - acc: 0.6286\n",
      "Epoch 3/20\n",
      " - 0s - loss: 0.5866 - acc: 0.7176\n",
      "Epoch 4/20\n",
      " - 0s - loss: 0.5357 - acc: 0.7933\n",
      "Epoch 5/20\n",
      " - 0s - loss: 0.4918 - acc: 0.8305\n",
      "Epoch 6/20\n",
      " - 0s - loss: 0.4538 - acc: 0.8533\n",
      "Epoch 7/20\n",
      " - 0s - loss: 0.4199 - acc: 0.8724\n",
      "Epoch 8/20\n",
      " - 0s - loss: 0.3907 - acc: 0.8881\n",
      "Epoch 9/20\n",
      " - 0s - loss: 0.3662 - acc: 0.9019\n",
      "Epoch 10/20\n",
      " - 0s - loss: 0.3464 - acc: 0.9110\n",
      "Epoch 11/20\n",
      " - 0s - loss: 0.3301 - acc: 0.9152\n",
      "Epoch 12/20\n",
      " - 0s - loss: 0.3167 - acc: 0.9190\n",
      "Epoch 13/20\n",
      " - 0s - loss: 0.3061 - acc: 0.9224\n",
      "Epoch 14/20\n",
      " - 0s - loss: 0.2975 - acc: 0.9262\n",
      "Epoch 15/20\n",
      " - 0s - loss: 0.2905 - acc: 0.9267\n",
      "Epoch 16/20\n",
      " - 0s - loss: 0.2848 - acc: 0.9295\n",
      "Epoch 17/20\n",
      " - 0s - loss: 0.2800 - acc: 0.9295\n",
      "Epoch 18/20\n",
      " - 0s - loss: 0.2763 - acc: 0.9338\n",
      "Epoch 19/20\n",
      " - 0s - loss: 0.2728 - acc: 0.9333\n",
      "Epoch 20/20\n",
      " - 0s - loss: 0.2699 - acc: 0.9352\n"
     ]
    },
    {
     "data": {
      "text/plain": [
       "<keras.callbacks.History at 0x1a23110eb8>"
      ]
     },
     "execution_count": 79,
     "metadata": {},
     "output_type": "execute_result"
    }
   ],
   "source": [
    "model.fit(scaled_train_samples\n",
    "          , train_labels\n",
    "          , batch_size = 10 \n",
    "          , epochs = 20\n",
    "          , shuffle = True \n",
    "          , verbose = 2)"
   ]
  },
  {
   "cell_type": "markdown",
   "metadata": {},
   "source": [
    "### Using a Validation Set"
   ]
  },
  {
   "cell_type": "code",
   "execution_count": 80,
   "metadata": {},
   "outputs": [],
   "source": [
    "model2 = Sequential([\n",
    "    Dense(16, input_shape=(1,), activation = 'relu'),\n",
    "    Dense(32, activation = 'relu'),\n",
    "    Dense(2, activation = 'softmax') # 2 categories of binary response\n",
    "])"
   ]
  },
  {
   "cell_type": "code",
   "execution_count": 81,
   "metadata": {},
   "outputs": [],
   "source": [
    "model2.compile(Adam(lr = 0.0001),\n",
    "                   loss = 'sparse_categorical_crossentropy',\n",
    "                  metrics = ['accuracy'])"
   ]
  },
  {
   "cell_type": "code",
   "execution_count": 82,
   "metadata": {},
   "outputs": [
    {
     "name": "stdout",
     "output_type": "stream",
     "text": [
      "Train on 1890 samples, validate on 210 samples\n",
      "Epoch 1/20\n",
      " - 1s - loss: 0.6889 - acc: 0.5175 - val_loss: 0.6638 - val_acc: 0.5667\n",
      "Epoch 2/20\n",
      " - 0s - loss: 0.6484 - acc: 0.6122 - val_loss: 0.6254 - val_acc: 0.6571\n",
      "Epoch 3/20\n",
      " - 0s - loss: 0.6162 - acc: 0.6608 - val_loss: 0.5920 - val_acc: 0.6762\n",
      "Epoch 4/20\n",
      " - 0s - loss: 0.5864 - acc: 0.7101 - val_loss: 0.5588 - val_acc: 0.7381\n",
      "Epoch 5/20\n",
      " - 0s - loss: 0.5570 - acc: 0.7471 - val_loss: 0.5277 - val_acc: 0.7714\n",
      "Epoch 6/20\n",
      " - 0s - loss: 0.5301 - acc: 0.7741 - val_loss: 0.4985 - val_acc: 0.8143\n",
      "Epoch 7/20\n",
      " - 0s - loss: 0.5043 - acc: 0.8016 - val_loss: 0.4697 - val_acc: 0.8286\n",
      "Epoch 8/20\n",
      " - 0s - loss: 0.4794 - acc: 0.8212 - val_loss: 0.4420 - val_acc: 0.8429\n",
      "Epoch 9/20\n",
      " - 0s - loss: 0.4556 - acc: 0.8397 - val_loss: 0.4149 - val_acc: 0.8476\n",
      "Epoch 10/20\n",
      " - 0s - loss: 0.4332 - acc: 0.8513 - val_loss: 0.3893 - val_acc: 0.8619\n",
      "Epoch 11/20\n",
      " - 0s - loss: 0.4124 - acc: 0.8661 - val_loss: 0.3653 - val_acc: 0.8857\n",
      "Epoch 12/20\n",
      " - 0s - loss: 0.3936 - acc: 0.8841 - val_loss: 0.3431 - val_acc: 0.9048\n",
      "Epoch 13/20\n",
      " - 0s - loss: 0.3765 - acc: 0.8905 - val_loss: 0.3227 - val_acc: 0.9143\n",
      "Epoch 14/20\n",
      " - 0s - loss: 0.3614 - acc: 0.9000 - val_loss: 0.3041 - val_acc: 0.9143\n",
      "Epoch 15/20\n",
      " - 0s - loss: 0.3482 - acc: 0.9048 - val_loss: 0.2876 - val_acc: 0.9333\n",
      "Epoch 16/20\n",
      " - 0s - loss: 0.3368 - acc: 0.9148 - val_loss: 0.2731 - val_acc: 0.9333\n",
      "Epoch 17/20\n",
      " - 0s - loss: 0.3267 - acc: 0.9190 - val_loss: 0.2596 - val_acc: 0.9333\n",
      "Epoch 18/20\n",
      " - 0s - loss: 0.3179 - acc: 0.9212 - val_loss: 0.2470 - val_acc: 0.9333\n",
      "Epoch 19/20\n",
      " - 0s - loss: 0.3099 - acc: 0.9212 - val_loss: 0.2358 - val_acc: 0.9476\n",
      "Epoch 20/20\n",
      " - 0s - loss: 0.3032 - acc: 0.9243 - val_loss: 0.2260 - val_acc: 0.9476\n"
     ]
    },
    {
     "data": {
      "text/plain": [
       "<keras.callbacks.History at 0x1a23befe48>"
      ]
     },
     "execution_count": 82,
     "metadata": {},
     "output_type": "execute_result"
    }
   ],
   "source": [
    "model2.fit(scaled_train_samples\n",
    "          , train_labels\n",
    "          , validation_split = 0.1 # split out 10% data\n",
    "          , batch_size = 10 \n",
    "          , epochs = 20\n",
    "          , shuffle = True \n",
    "          , verbose = 2)"
   ]
  },
  {
   "cell_type": "markdown",
   "metadata": {},
   "source": [
    "### Create Synthetic Testing Data"
   ]
  },
  {
   "cell_type": "code",
   "execution_count": 83,
   "metadata": {},
   "outputs": [],
   "source": [
    "test_samples = []\n",
    "test_labels = []"
   ]
  },
  {
   "cell_type": "code",
   "execution_count": 84,
   "metadata": {},
   "outputs": [],
   "source": [
    "for i in range(10):\n",
    "    random_younger = randint(13, 64)\n",
    "    test_samples.append(random_younger)\n",
    "    test_labels.append(1)\n",
    "    \n",
    "    random_older = randint(65, 100)\n",
    "    test_samples.append(random_older)\n",
    "    test_labels.append(0)\n",
    "    \n",
    "for i in range(200):\n",
    "    random_younger = randint(13, 64)\n",
    "    test_samples.append(random_younger)\n",
    "    test_labels.append(0)\n",
    "    \n",
    "    random_older = randint(65, 100)\n",
    "    test_samples.append(random_older)\n",
    "    test_labels.append(1)"
   ]
  },
  {
   "cell_type": "markdown",
   "metadata": {},
   "source": [
    "Convert to numpy to be acceptable by Keras"
   ]
  },
  {
   "cell_type": "code",
   "execution_count": 85,
   "metadata": {},
   "outputs": [],
   "source": [
    "test_samples = np.array(test_samples)\n",
    "test_labels = np.array(test_labels)"
   ]
  },
  {
   "cell_type": "markdown",
   "metadata": {},
   "source": [
    "The same MinMaxScaler object that was used on the training samples should also be used on the test samples (rather than creating a second MinMaxScaler) so that the test data can be scaled to the same scale as the training data."
   ]
  },
  {
   "cell_type": "code",
   "execution_count": 87,
   "metadata": {},
   "outputs": [
    {
     "name": "stderr",
     "output_type": "stream",
     "text": [
      "/anaconda3/lib/python3.6/site-packages/sklearn/utils/validation.py:475: DataConversionWarning: Data with input dtype int64 was converted to float64 by MinMaxScaler.\n",
      "  warnings.warn(msg, DataConversionWarning)\n"
     ]
    }
   ],
   "source": [
    "scaled_test_samples = scaler.fit_transform((test_samples)\\\n",
    "               .reshape(-1, 1))"
   ]
  },
  {
   "cell_type": "markdown",
   "metadata": {},
   "source": [
    "### Make Predictions"
   ]
  },
  {
   "cell_type": "code",
   "execution_count": 88,
   "metadata": {},
   "outputs": [],
   "source": [
    "predictions = model2.predict(scaled_test_samples\n",
    "                             , batch_size = 10 \n",
    "                             , verbose = 0)"
   ]
  },
  {
   "cell_type": "markdown",
   "metadata": {},
   "source": [
    "These are probabilities that add up to 1."
   ]
  },
  {
   "cell_type": "code",
   "execution_count": 90,
   "metadata": {},
   "outputs": [
    {
     "name": "stdout",
     "output_type": "stream",
     "text": [
      "[0.8977903  0.10220965]\n",
      "[0.26178682 0.7382132 ]\n",
      "[0.902375   0.09762496]\n",
      "[0.0697018 0.9302982]\n",
      "[0.67445254 0.32554746]\n",
      "[0.09855071 0.9014493 ]\n",
      "[0.8996771 0.1003229]\n",
      "[0.07572607 0.92427385]\n",
      "[0.58325493 0.41674507]\n"
     ]
    }
   ],
   "source": [
    "count = 0\n",
    "for i in predictions:\n",
    "    if count < 9:\n",
    "        print(i)\n",
    "    count += 1"
   ]
  },
  {
   "cell_type": "code",
   "execution_count": 91,
   "metadata": {},
   "outputs": [],
   "source": [
    "rounded_predictions = model.predict_classes(scaled_test_samples\n",
    "                                            , batch_size = 10\n",
    "                                            , verbose = 0)"
   ]
  },
  {
   "cell_type": "code",
   "execution_count": 92,
   "metadata": {},
   "outputs": [
    {
     "name": "stdout",
     "output_type": "stream",
     "text": [
      "0\n",
      "1\n",
      "0\n",
      "1\n",
      "0\n",
      "1\n",
      "0\n",
      "1\n",
      "0\n"
     ]
    }
   ],
   "source": [
    "count = 0\n",
    "for elem in rounded_predictions:\n",
    "    if count < 9:\n",
    "        print(elem)\n",
    "    count += 1"
   ]
  },
  {
   "cell_type": "markdown",
   "metadata": {},
   "source": [
    "### Confusion Matrix"
   ]
  },
  {
   "cell_type": "code",
   "execution_count": 96,
   "metadata": {},
   "outputs": [],
   "source": [
    "%matplotlib inline\n",
    "from sklearn.metrics import confusion_matrix\n",
    "import itertools\n",
    "import matplotlib.pyplot as plt\n",
    "import seaborn as sns"
   ]
  },
  {
   "cell_type": "code",
   "execution_count": 94,
   "metadata": {},
   "outputs": [],
   "source": [
    "cm = confusion_matrix(test_labels, rounded_predictions)"
   ]
  },
  {
   "cell_type": "code",
   "execution_count": 97,
   "metadata": {},
   "outputs": [
    {
     "data": {
      "text/plain": [
       "<matplotlib.axes._subplots.AxesSubplot at 0x1a2508f898>"
      ]
     },
     "execution_count": 97,
     "metadata": {},
     "output_type": "execute_result"
    },
    {
     "data": {
      "image/png": "[encoded data removed]",
      "text/plain": [
       "<Figure size 432x288 with 2 Axes>"
      ]
     },
     "metadata": {},
     "output_type": "display_data"
    }
   ],
   "source": [
    "sns.heatmap(cm ,annot=True,fmt='.5g') "
   ]
  },
  {
   "cell_type": "markdown",
   "metadata": {},
   "source": [
    "### Saving and Loading up the Model\n",
    "\n",
    "model.save()"
   ]
  },
  {
   "cell_type": "code",
   "execution_count": 100,
   "metadata": {},
   "outputs": [],
   "source": [
    "model2.save('medical_trial_model.h5')"
   ]
  },
  {
   "cell_type": "code",
   "execution_count": 103,
   "metadata": {},
   "outputs": [],
   "source": [
    "from keras.models import load_model\n",
    "loaded_model = load_model('medical_trial_model.h5')"
   ]
  },
  {
   "cell_type": "code",
   "execution_count": 104,
   "metadata": {},
   "outputs": [
    {
     "name": "stdout",
     "output_type": "stream",
     "text": [
      "_________________________________________________________________\n",
      "Layer (type)                 Output Shape              Param #   \n",
      "=================================================================\n",
      "dense_13 (Dense)             (None, 16)                32        \n",
      "_________________________________________________________________\n",
      "dense_14 (Dense)             (None, 32)                544       \n",
      "_________________________________________________________________\n",
      "dense_15 (Dense)             (None, 2)                 66        \n",
      "=================================================================\n",
      "Total params: 642\n",
      "Trainable params: 642\n",
      "Non-trainable params: 0\n",
      "_________________________________________________________________\n"
     ]
    }
   ],
   "source": [
    "loaded_model.summary()"
   ]
  },
  {
   "cell_type": "code",
   "execution_count": 106,
   "metadata": {},
   "outputs": [],
   "source": [
    "# loaded_model.get_weights()"
   ]
  },
  {
   "cell_type": "markdown",
   "metadata": {},
   "source": [
    "model.to_json() to just save architecture of the model and note its weights or its training configuration"
   ]
  },
  {
   "cell_type": "code",
   "execution_count": 107,
   "metadata": {},
   "outputs": [],
   "source": [
    "json_string = model2.to_json()"
   ]
  },
  {
   "cell_type": "code",
   "execution_count": 108,
   "metadata": {},
   "outputs": [
    {
     "data": {
      "text/plain": [
       "'{\"class_name\": \"Sequential\", \"config\": [{\"class_name\": \"Dense\", \"config\": {\"name\": \"dense_13\", \"trainable\": true, \"batch_input_shape\": [null, 1], \"dtype\": \"float32\", \"units\": 16, \"activation\": \"relu\", \"use_bias\": true, \"kernel_initializer\": {\"class_name\": \"VarianceScaling\", \"config\": {\"scale\": 1.0, \"mode\": \"fan_avg\", \"distribution\": \"uniform\", \"seed\": null}}, \"bias_initializer\": {\"class_name\": \"Zeros\", \"config\": {}}, \"kernel_regularizer\": null, \"bias_regularizer\": null, \"activity_regularizer\": null, \"kernel_constraint\": null, \"bias_constraint\": null}}, {\"class_name\": \"Dense\", \"config\": {\"name\": \"dense_14\", \"trainable\": true, \"units\": 32, \"activation\": \"relu\", \"use_bias\": true, \"kernel_initializer\": {\"class_name\": \"VarianceScaling\", \"config\": {\"scale\": 1.0, \"mode\": \"fan_avg\", \"distribution\": \"uniform\", \"seed\": null}}, \"bias_initializer\": {\"class_name\": \"Zeros\", \"config\": {}}, \"kernel_regularizer\": null, \"bias_regularizer\": null, \"activity_regularizer\": null, \"kernel_constraint\": null, \"bias_constraint\": null}}, {\"class_name\": \"Dense\", \"config\": {\"name\": \"dense_15\", \"trainable\": true, \"units\": 2, \"activation\": \"softmax\", \"use_bias\": true, \"kernel_initializer\": {\"class_name\": \"VarianceScaling\", \"config\": {\"scale\": 1.0, \"mode\": \"fan_avg\", \"distribution\": \"uniform\", \"seed\": null}}, \"bias_initializer\": {\"class_name\": \"Zeros\", \"config\": {}}, \"kernel_regularizer\": null, \"bias_regularizer\": null, \"activity_regularizer\": null, \"kernel_constraint\": null, \"bias_constraint\": null}}], \"keras_version\": \"2.2.2\", \"backend\": \"tensorflow\"}'"
      ]
     },
     "execution_count": 108,
     "metadata": {},
     "output_type": "execute_result"
    }
   ],
   "source": [
    "json_string"
   ]
  },
  {
   "cell_type": "code",
   "execution_count": 109,
   "metadata": {},
   "outputs": [],
   "source": [
    "from keras.models import model_from_json\n",
    "model_architecture = model_from_json(json_string)"
   ]
  },
  {
   "cell_type": "code",
   "execution_count": 110,
   "metadata": {},
   "outputs": [
    {
     "name": "stdout",
     "output_type": "stream",
     "text": [
      "_________________________________________________________________\n",
      "Layer (type)                 Output Shape              Param #   \n",
      "=================================================================\n",
      "dense_13 (Dense)             (None, 16)                32        \n",
      "_________________________________________________________________\n",
      "dense_14 (Dense)             (None, 32)                544       \n",
      "_________________________________________________________________\n",
      "dense_15 (Dense)             (None, 2)                 66        \n",
      "=================================================================\n",
      "Total params: 642\n",
      "Trainable params: 642\n",
      "Non-trainable params: 0\n",
      "_________________________________________________________________\n"
     ]
    }
   ],
   "source": [
    "model_architecture.summary()"
   ]
  },
  {
   "cell_type": "markdown",
   "metadata": {},
   "source": [
    "model.save_weights() to only save the weights and not the architecture, so you can create an identical model architecture and use the saved weights."
   ]
  },
  {
   "cell_type": "code",
   "execution_count": 111,
   "metadata": {},
   "outputs": [],
   "source": [
    "model2.save_weights('my_model_weights.h5')"
   ]
  }
 ],
 "metadata": {
  "kernelspec": {
   "display_name": "Python 3",
   "language": "python",
   "name": "python3"
  },
  "language_info": {
   "codemirror_mode": {
    "name": "ipython",
    "version": 3
   },
   "file_extension": ".py",
   "mimetype": "text/x-python",
   "name": "python",
   "nbconvert_exporter": "python",
   "pygments_lexer": "ipython3",
   "version": "3.6.5"
  }
 },
 "nbformat": 4,
 "nbformat_minor": 2
}
